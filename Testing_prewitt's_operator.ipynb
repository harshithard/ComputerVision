{
  "nbformat": 4,
  "nbformat_minor": 0,
  "metadata": {
    "colab": {
      "name": "Testing prewitt's operator.ipynb",
      "provenance": [],
      "collapsed_sections": [],
      "authorship_tag": "ABX9TyMVUCHjqxNm75E028M7B5d5",
      "include_colab_link": true
    },
    "kernelspec": {
      "name": "python3",
      "display_name": "Python 3"
    },
    "language_info": {
      "name": "python"
    }
  },
  "cells": [
    {
      "cell_type": "markdown",
      "metadata": {
        "id": "view-in-github",
        "colab_type": "text"
      },
      "source": [
        "<a href=\"https://colab.research.google.com/github/harshithard/ComputerVision/blob/main/Testing_prewitt's_operator.ipynb\" target=\"_parent\"><img src=\"https://colab.research.google.com/assets/colab-badge.svg\" alt=\"Open In Colab\"/></a>"
      ]
    },
    {
      "cell_type": "code",
      "execution_count": null,
      "metadata": {
        "id": "ceGHGjcX0B7e"
      },
      "outputs": [],
      "source": [
        "import numpy as np\n",
        "import math\n",
        "def prewitt_operator(gray_img):\n",
        "  h, w = np.shape(gray_img)[0], np.shape(gray_img)[1]\n",
        "  # define filters\n",
        "  horizontal = np.array([[-1, 0, 1], [-1, 0, 1], [-1, 0, 1]])  # s2\n",
        "  vertical = np.array([[1, 1, 1], [0, 0, 0], [-1, -1, -1]])  # s1\n",
        "  # define images with 0s\n",
        "  newgradientImage = np.zeros((h, w))\n",
        "  gradient_angles = np.zeros((h, w))\n",
        "  horizontalGrad = np.zeros((h, w))\n",
        "  verticalGrad = np.zeros((h, w))\n",
        "\n",
        "  # offset by 1\n",
        "  for i in range(1, h - 1):\n",
        "      for j in range(1, w - 1):\n",
        "        \n",
        "        horizontalGrad[i][j] = np.sum(np.multiply(gray_img[i-1:i+2,j-1:j+2],horizontal))\n",
        "\n",
        "        #print(gray_img[i-1:i+2,j-1:j+2])\n",
        "        verticalGrad[i][j] = np.sum(np.multiply(gray_img[i-1:i+2,j-1:j+2],vertical))\n",
        "        #print(verticalGrad,horizontalGrad)\n",
        "        #print(horizontalGrad)\n",
        "        #print(verticalGrad)\n",
        "        mag = (np.sqrt(pow(horizontalGrad[i][j], 2.0) + pow(verticalGrad[i][j], 2.0)))\n",
        "          #print(mag)\n",
        "        #mag = abs(horizontalGrad[i][j])+abs(verticalGrad[i][j])\n",
        "        if(horizontalGrad[i][j]==0 and verticalGrad[i][j]==0):\n",
        "          mag=0\n",
        "          angle = 0\n",
        "        else:\n",
        "          angle = math.degrees(math.atan(verticalGrad[i][j]/ horizontalGrad[i][j]))\n",
        "\n",
        "        #converting negative angles to positive\n",
        "        angle = angle%360 \n",
        "        \n",
        "        #converting them to range [0,180]\n",
        "        if angle>=180:\n",
        "          angle-=180\n",
        "        #print(\"mag is\",mag)\n",
        "        gradient_angles[i,j] = angle\n",
        "        newgradientImage[i,j] = mag\n",
        "  print(newgradientImage.shape)\n",
        "  print(horizontalGrad)\n",
        "  print(verticalGrad)\n",
        "  # normalized_img1 = (255*(newgradientImage - np.min(newgradientImage))/np.ptp(newgradientImage)).astype(int)  \n",
        "  normalized_img = (newgradientImage/np.amax(newgradientImage))*255\n",
        "  normalized_img = normalized_img.astype(int)\n",
        "  #normalized_img = (newgradientImage * np.max(newgradientImage))/255\n",
        "  #print(normalized_img)\n",
        "  #print(gradient_angles)\n",
        "\n",
        "  return newgradientImage,gradient_angles"
      ]
    },
    {
      "cell_type": "code",
      "source": [
        "input = [[1,1,1,1,1,1,5],\n",
        "         [1,1,1,1,1,5,9],\n",
        "         [1,1,1,1,5,9,9],\n",
        "         [1,1,1,5,9,9,9],\n",
        "         [1,1,5,9,9,9,9],\n",
        "         [1,5,9,9,9,9,9],\n",
        "         [5,9,9,9,9,9,9]]\n",
        "input = np.array(input)\n",
        "\n",
        "mag,ang = prewitt_operator(input)\n"
      ],
      "metadata": {
        "colab": {
          "base_uri": "https://localhost:8080/"
        },
        "id": "ypO4Vq3f0JnS",
        "outputId": "31621f8d-f25b-42c0-b328-badd1fb7e7b1"
      },
      "execution_count": null,
      "outputs": [
        {
          "output_type": "stream",
          "name": "stdout",
          "text": [
            "(7, 7)\n",
            "[[ 0.  0.  0.  0.  0.  0.  0.]\n",
            " [ 0.  0.  0.  4. 12. 16.  0.]\n",
            " [ 0.  0.  4. 12. 16. 12.  0.]\n",
            " [ 0.  4. 12. 16. 12.  4.  0.]\n",
            " [ 0. 12. 16. 12.  4.  0.  0.]\n",
            " [ 0. 16. 12.  4.  0.  0.  0.]\n",
            " [ 0.  0.  0.  0.  0.  0.  0.]]\n",
            "[[  0.   0.   0.   0.   0.   0.   0.]\n",
            " [  0.   0.   0.  -4. -12. -16.   0.]\n",
            " [  0.   0.  -4. -12. -16. -12.   0.]\n",
            " [  0.  -4. -12. -16. -12.  -4.   0.]\n",
            " [  0. -12. -16. -12.  -4.   0.   0.]\n",
            " [  0. -16. -12.  -4.   0.   0.   0.]\n",
            " [  0.   0.   0.   0.   0.   0.   0.]]\n"
          ]
        }
      ]
    },
    {
      "cell_type": "code",
      "source": [
        "mag"
      ],
      "metadata": {
        "colab": {
          "base_uri": "https://localhost:8080/"
        },
        "id": "io_LTBc71ErC",
        "outputId": "c587cfc3-435d-46b8-c4a5-8c7ca5b0d659"
      },
      "execution_count": null,
      "outputs": [
        {
          "output_type": "execute_result",
          "data": {
            "text/plain": [
              "array([[ 0.,  0.,  0.,  0.,  0.,  0.,  0.],\n",
              "       [ 0.,  0.,  0.,  8., 24., 32.,  0.],\n",
              "       [ 0.,  0.,  8., 24., 32., 24.,  0.],\n",
              "       [ 0.,  8., 24., 32., 24.,  8.,  0.],\n",
              "       [ 0., 24., 32., 24.,  8.,  0.,  0.],\n",
              "       [ 0., 32., 24.,  8.,  0.,  0.,  0.],\n",
              "       [ 0.,  0.,  0.,  0.,  0.,  0.,  0.]])"
            ]
          },
          "metadata": {},
          "execution_count": 54
        }
      ]
    },
    {
      "cell_type": "code",
      "source": [
        "ang"
      ],
      "metadata": {
        "colab": {
          "base_uri": "https://localhost:8080/"
        },
        "id": "zmq_1xjQ1FYa",
        "outputId": "4e742b67-6f11-497d-daa9-fb9efda6db89"
      },
      "execution_count": null,
      "outputs": [
        {
          "output_type": "execute_result",
          "data": {
            "text/plain": [
              "array([[  0.,   0.,   0.,   0.,   0.,   0.,   0.],\n",
              "       [  0.,   0.,   0., 135., 135., 135.,   0.],\n",
              "       [  0.,   0., 135., 135., 135., 135.,   0.],\n",
              "       [  0., 135., 135., 135., 135., 135.,   0.],\n",
              "       [  0., 135., 135., 135., 135.,   0.,   0.],\n",
              "       [  0., 135., 135., 135.,   0.,   0.,   0.],\n",
              "       [  0.,   0.,   0.,   0.,   0.,   0.,   0.]])"
            ]
          },
          "metadata": {},
          "execution_count": 51
        }
      ]
    },
    {
      "cell_type": "code",
      "source": [
        ""
      ],
      "metadata": {
        "id": "vvoeWeKg46k3"
      },
      "execution_count": null,
      "outputs": []
    },
    {
      "cell_type": "code",
      "source": [
        ""
      ],
      "metadata": {
        "id": "WLXOj6We8oeh"
      },
      "execution_count": null,
      "outputs": []
    }
  ]
}