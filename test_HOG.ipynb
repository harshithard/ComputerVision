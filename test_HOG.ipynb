{
  "nbformat": 4,
  "nbformat_minor": 0,
  "metadata": {
    "colab": {
      "name": "test HOG.ipynb",
      "provenance": [],
      "authorship_tag": "ABX9TyPF6yuNqyMF25+KTL4k2a0l",
      "include_colab_link": true
    },
    "kernelspec": {
      "name": "python3",
      "display_name": "Python 3"
    },
    "language_info": {
      "name": "python"
    }
  },
  "cells": [
    {
      "cell_type": "markdown",
      "metadata": {
        "id": "view-in-github",
        "colab_type": "text"
      },
      "source": [
        "<a href=\"https://colab.research.google.com/github/harshithard/ComputerVision/blob/main/test_HOG.ipynb\" target=\"_parent\"><img src=\"https://colab.research.google.com/assets/colab-badge.svg\" alt=\"Open In Colab\"/></a>"
      ]
    },
    {
      "cell_type": "code",
      "source": [
        "def calculate_histogram(array, weights):\n",
        "  hist = np.zeros(9)\n",
        "  weights = np.asarray(weights,dtype=float)\n",
        "  array = np.asarray(array,dtype=float)\n",
        "\n",
        "  #print(weights)\n",
        "  centers = [10.0,30.0,50.0,70.0,90.0,110.0,130.0,150.0,170.0]\n",
        "  bin1 = 0\n",
        "  bin2 = 0\n",
        "  proportion1=0.0\n",
        "  proportion2 = 0.0\n",
        "  for i in range(3):\n",
        "      for j in range(3):\n",
        "        if(array[i][j] in centers):\n",
        "          proportion1 = 1.0\n",
        "          proportion2 = 0.0\n",
        "          bin1 = int(array[i][j]//20)\n",
        "\n",
        "        elif(array[i][j]%20==0): #test corners\n",
        "          proportion1 = 0.5\n",
        "          proportion2 = 0.5\n",
        "          if(array[i][j]==180.0 or array[i][j]==0.0):\n",
        "            bin1 = 0\n",
        "            bin2 = 8\n",
        "          else:\n",
        "            bin1 = math.ceil((array[i][j]/20)+0.05) - 1\n",
        "            #hist[bin1] += 0.5*weights[i][j]\n",
        "            #hist[bin1-1] += 0.5*weights[i][j]\n",
        "            bin2 = bin1-1\n",
        "        else:\n",
        "          bin1 = math.ceil((array[i][j]/20)) - 1\n",
        "          if(bin1==9):\n",
        "            bin1 = 0\n",
        "            bin2 = 8\n",
        "          else:\n",
        "            if(bin1==8 and array[i][j]>centers[bin1]):\n",
        "              bin2 = 0\n",
        "            elif(array[i][j]<centers[bin1] and bin1==0):\n",
        "              bin2 = 8\n",
        "            elif(array[i][j]<centers[bin1]):\n",
        "              bin2 = bin1-1\n",
        "            else:\n",
        "              bin2 = bin1+1\n",
        "          proportion1 = 1 - (abs(array[i][j]-centers[bin1])/20.0)\n",
        "\n",
        "          proportion2 = 1-proportion1\n",
        "\n",
        "        hist[bin1] = hist[bin1] + (proportion1*weights[i][j])\n",
        "        hist[bin2] = hist[bin2] + (proportion2*weights[i][j])\n",
        "  #hist,_ = np.histogram(array,bins=9,range=(0,180),weights=weights)\n",
        "  #print(hist)\n",
        "  return hist"
      ],
      "metadata": {
        "id": "KQMnxQm36tZB"
      },
      "execution_count": null,
      "outputs": []
    },
    {
      "cell_type": "code",
      "execution_count": null,
      "metadata": {
        "id": "YuDywf4Z6pV2"
      },
      "outputs": [],
      "source": [
        "cell = [3, 3]\n",
        "incr = [3,3]\n",
        "bin_num = 9\n",
        "im_size = [6,6]\n",
        "\n",
        "def create_hog_features(grad_array,mag_array):\n",
        "  max_h = int(((grad_array.shape[0]-cell[0])/incr[0])+1)\n",
        "  max_w = int(((grad_array.shape[1]-cell[1])/incr[1])+1)\n",
        "  cell_array = []\n",
        "  w = 0\n",
        "  h = 0\n",
        "  i = 0\n",
        "  j = 0\n",
        "  #Creating 8X8 cells\n",
        "  while i<max_h:\n",
        "    w = 0\n",
        "    j = 0\n",
        "\n",
        "    while j<max_w:\n",
        "      gradient_array = grad_array[h:h+cell[0],w:w+cell[1]]\n",
        "      print(gradient_array)\n",
        "      magnitude_array = mag_array[h:h+cell[0],w:w+cell[1]]\n",
        "      print(magnitude_array)\n",
        "      val = calculate_histogram(gradient_array,magnitude_array)\n",
        "      print(val)\n",
        "      cell_array.append(val)\n",
        "      j += 1\n",
        "      w += incr[1]\n",
        "    i += 1\n",
        "    h += incr[0]\n",
        "\n",
        "  cell_array = np.reshape(cell_array,(max_h, max_w, bin_num))\n",
        "\t#normalising blocks of cells\n",
        "  block = [2,2]\n",
        "\t#here increment is 1\n",
        "\n",
        "  max_h = int((max_h-block[0])+1)\n",
        "  max_w = int((max_w-block[1])+1)\n",
        "  #max_h = 19\n",
        "  #max_w = 11\n",
        "  block_list = []\n",
        "  w = 0\n",
        "  h = 0\n",
        "  i = 0\n",
        "  j = 0\n",
        "  \n",
        "  while i<max_h:\n",
        "    w = 0\n",
        "    j = 0\n",
        "    while j<max_w:\n",
        "      for_norm = cell_array[h:h+block[0],w:w+block[1]]\n",
        "      mag = np.linalg.norm(for_norm)\n",
        "      arr_list = (for_norm/mag).flatten().tolist()\n",
        "      #print(\"hello\")\n",
        "      print(len(arr_list))\n",
        "      print(arr_list)\n",
        "      block_list.extend(arr_list) #arr_list\n",
        "      j += 1\n",
        "      w += 1\n",
        "\n",
        "    i += 1\n",
        "    h += 1\n",
        "\n",
        "\t#returns a vextor array list of 7524 elements\n",
        "  return block_list\n",
        "\n",
        "\n",
        "images_hog_features = []"
      ]
    },
    {
      "cell_type": "code",
      "source": [
        "import numpy as np\n",
        "import math\n",
        "mag = [[100,100,100,100,100,100],\n",
        "       [100,100,100,100,100,100],\n",
        "       [100,100,100,100,100,100],\n",
        "       [100,100,100,100,100,100],\n",
        "       [100,100,100,100,100,100],\n",
        "       [100,100,100,100,100,100]]\n",
        "mag = np.array(mag)\n",
        "print(mag.shape)\n",
        "angle = [[19,180,0,170,171,5],\n",
        "         [165,30,10,25,145,75],\n",
        "         [19,15,155,169,170,175],\n",
        "         [19.04,170.56,25.67,10.001,15.25,17.89],\n",
        "         [125.04,168.008,89,24,0.56,0.001],\n",
        "         [66.36,36.66,24.44,1.23,12.34,123.4]]\n",
        "angle = np.array(angle)\n",
        "print(angle.shape)\n",
        "       "
      ],
      "metadata": {
        "colab": {
          "base_uri": "https://localhost:8080/"
        },
        "id": "gI-qxMEE9F0S",
        "outputId": "9b6195ee-55a7-4986-c06d-f9f5d9edfc0b"
      },
      "execution_count": null,
      "outputs": [
        {
          "output_type": "stream",
          "name": "stdout",
          "text": [
            "(6, 6)\n",
            "(6, 6)\n"
          ]
        }
      ]
    },
    {
      "cell_type": "code",
      "source": [
        "bloc = create_hog_features(angle,mag)"
      ],
      "metadata": {
        "colab": {
          "base_uri": "https://localhost:8080/"
        },
        "id": "rxN3clXWBrYE",
        "outputId": "9f2c7c22-1aee-41ad-c634-bcceff96d79f"
      },
      "execution_count": null,
      "outputs": [
        {
          "output_type": "stream",
          "name": "stdout",
          "text": [
            "[[ 19. 180.   0.]\n",
            " [165.  30.  10.]\n",
            " [ 19.  15. 155.]]\n",
            "[[100 100 100]\n",
            " [100 100 100]\n",
            " [100 100 100]]\n",
            "[385. 215.   0.   0.   0.   0.   0. 100. 200.]\n",
            "[[170. 171.   5.]\n",
            " [ 25. 145.  75.]\n",
            " [169. 170. 175.]]\n",
            "[[100 100 100]\n",
            " [100 100 100]\n",
            " [100 100 100]]\n",
            "[130.  75.   0.  75.  25.   0.  25.  80. 490.]\n",
            "[[ 19.04  170.56   25.67 ]\n",
            " [125.04  168.008  89.   ]\n",
            " [ 66.36   36.66   24.44 ]]\n",
            "[[100 100 100]\n",
            " [100 100 100]\n",
            " [100 100 100]]\n",
            "[107.05 262.45  51.5   86.8   95.    24.8   75.2    9.96 187.24]\n",
            "[[1.0001e+01 1.5250e+01 1.7890e+01]\n",
            " [2.4000e+01 5.6000e-01 1.0000e-03]\n",
            " [1.2300e+00 1.2340e+01 1.2340e+02]]\n",
            "[[100 100 100]\n",
            " [100 100 100]\n",
            " [100 100 100]]\n",
            "[511.55  147.405   0.      0.      0.     33.     67.      0.    141.045]\n",
            "36\n",
            "[0.39086543732364315, 0.21827550395995657, 0.0, 0.0, 0.0, 0.0, 0.0, 0.1015234902139333, 0.2030469804278666, 0.1319805372781133, 0.07614261766044997, 0.0, 0.07614261766044997, 0.025380872553483324, 0.0, 0.025380872553483324, 0.08121879217114664, 0.4974651020482731, 0.10868089627401557, 0.26644840006646797, 0.05228459746017563, 0.0881223895056941, 0.09644731570323663, 0.02517782557305542, 0.07634566464087787, 0.010111739625307703, 0.19009258307656873, 0.5193434141893758, 0.14965070074984838, 0.0, 0.0, 0.0, 0.03350275177059796, 0.06802073844333534, 0.0, 0.1431938067722422]\n"
          ]
        }
      ]
    },
    {
      "cell_type": "code",
      "source": [
        "print"
      ],
      "metadata": {
        "id": "2LeiQYvDB7sI"
      },
      "execution_count": null,
      "outputs": []
    }
  ]
}